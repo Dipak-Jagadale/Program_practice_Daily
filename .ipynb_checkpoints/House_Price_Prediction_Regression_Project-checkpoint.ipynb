{
 "cells": [
  {
   "cell_type": "markdown",
   "id": "7a56d06b",
   "metadata": {},
   "source": [
    "# House_Price_Prediction_Regression_Project"
   ]
  },
  {
   "cell_type": "markdown",
   "id": "75cbe411",
   "metadata": {},
   "source": [
    "### Goal of the Project"
   ]
  },
  {
   "cell_type": "markdown",
   "id": "2be4bba2",
   "metadata": {},
   "source": [
    "##### Predict the price of a house by its features. If you are a buyer or seller of the house but you don’t know the exact price of the house, so supervised machine learning regression algorithms can help you to predict the price of the house just providing features of the target house.\n",
    "\n",
    "I"
   ]
  },
  {
   "cell_type": "code",
   "execution_count": null,
   "id": "32d795b7",
   "metadata": {},
   "outputs": [],
   "source": []
  }
 ],
 "metadata": {
  "kernelspec": {
   "display_name": "Python 3 (ipykernel)",
   "language": "python",
   "name": "python3"
  },
  "language_info": {
   "codemirror_mode": {
    "name": "ipython",
    "version": 3
   },
   "file_extension": ".py",
   "mimetype": "text/x-python",
   "name": "python",
   "nbconvert_exporter": "python",
   "pygments_lexer": "ipython3",
   "version": "3.11.2"
  }
 },
 "nbformat": 4,
 "nbformat_minor": 5
}
