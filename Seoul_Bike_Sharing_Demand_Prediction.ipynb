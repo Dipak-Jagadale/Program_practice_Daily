{
 "cells": [
  {
   "cell_type": "markdown",
   "id": "691274ea",
   "metadata": {},
   "source": [
    "# Seoul_Bike_Sharing_Demand_Prediction"
   ]
  },
  {
   "cell_type": "code",
   "execution_count": null,
   "id": "3b453bae",
   "metadata": {},
   "outputs": [],
   "source": [
    "import numpy as np\n",
    "import pandas as pd \n",
    "import matplotlib.pyplot as plt\n",
    "import seaborn as sns\n",
    "from statmodel.stats.outliers_influence import variance_inflation_factor\n",
    "from sklearn.model_selection import train_test_split\n",
    "ffrom sklearn.model_selection import train_test"
   ]
  }
 ],
 "metadata": {
  "kernelspec": {
   "display_name": "Python 3 (ipykernel)",
   "language": "python",
   "name": "python3"
  },
  "language_info": {
   "codemirror_mode": {
    "name": "ipython",
    "version": 3
   },
   "file_extension": ".py",
   "mimetype": "text/x-python",
   "name": "python",
   "nbconvert_exporter": "python",
   "pygments_lexer": "ipython3",
   "version": "3.11.2"
  }
 },
 "nbformat": 4,
 "nbformat_minor": 5
}
