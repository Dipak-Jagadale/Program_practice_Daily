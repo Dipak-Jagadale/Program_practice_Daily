{
 "cells": [
  {
   "cell_type": "markdown",
   "id": "7a56d06b",
   "metadata": {},
   "source": [
    "# House_Price_Prediction_Regression_Project"
   ]
  },
  {
   "cell_type": "markdown",
   "id": "75cbe411",
   "metadata": {},
   "source": [
    "### Goalof the Project"
   ]
  },
  {
   "cell_type": "code",
   "execution_count": null,
   "id": "429b0fb9",
   "metadata": {},
   "outputs": [],
   "source": []
  }
 ],
 "metadata": {
  "kernelspec": {
   "display_name": "Python 3 (ipykernel)",
   "language": "python",
   "name": "python3"
  },
  "language_info": {
   "codemirror_mode": {
    "name": "ipython",
    "version": 3
   },
   "file_extension": ".py",
   "mimetype": "text/x-python",
   "name": "python",
   "nbconvert_exporter": "python",
   "pygments_lexer": "ipython3",
   "version": "3.11.2"
  }
 },
 "nbformat": 4,
 "nbformat_minor": 5
}
