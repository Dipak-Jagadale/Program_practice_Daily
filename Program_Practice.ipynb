{
 "cells": [
  {
   "cell_type": "markdown",
   "id": "04d32293",
   "metadata": {},
   "source": [
    "### Program Practice"
   ]
  },
  {
   "cell_type": "markdown",
   "id": "bbf5757f",
   "metadata": {},
   "source": [
    "#### 1. Python prgram output of two print statement in single line\n",
    "\n",
    "###### One way"
   ]
  },
  {
   "cell_type": "code",
   "execution_count": 1,
   "id": "24b76f46",
   "metadata": {},
   "outputs": [
    {
     "name": "stdout",
     "output_type": "stream",
     "text": [
      " i am data scientistand trying to switch in infosys\n"
     ]
    }
   ],
   "source": [
    "a = \" i am data scientist\"\n",
    "b = \"and trying to switch in infosys\"\n",
    "print(a+b)\n"
   ]
  },
  {
   "cell_type": "markdown",
   "id": "0bcc87bb",
   "metadata": {},
   "source": [
    "#### another way "
   ]
  },
  {
   "cell_type": "code",
   "execution_count": 9,
   "id": "c3654507",
   "metadata": {},
   "outputs": [
    {
     "name": "stdout",
     "output_type": "stream",
     "text": [
      "i am data scientistand trying to switch in infosys\n"
     ]
    }
   ],
   "source": [
    "print(\"i am data scientist\",end=\"\")\n",
    "print(\"and trying to switch in infosys\")\n",
    "      "
   ]
  },
  {
   "cell_type": "markdown",
   "id": "53743686",
   "metadata": {},
   "source": [
    "### 2. generate random integer number "
   ]
  },
  {
   "cell_type": "code",
   "execution_count": 10,
   "id": "878b6ad9",
   "metadata": {},
   "outputs": [
    {
     "name": "stdout",
     "output_type": "stream",
     "text": [
      "4\n"
     ]
    }
   ],
   "source": [
    "import random\n",
    "num = random.randint(1,10)\n",
    "print(num)"
   ]
  },
  {
   "cell_type": "markdown",
   "id": "7f7202e9",
   "metadata": {},
   "source": [
    "#### 3. WAP for chek is leap year or not "
   ]
  },
  {
   "cell_type": "code",
   "execution_count": 16,
   "id": "720356b7",
   "metadata": {},
   "outputs": [
    {
     "name": "stdout",
     "output_type": "stream",
     "text": [
      "enter year for cheking leap year or not:2018\n",
      "2018is not leap year....!\n"
     ]
    }
   ],
   "source": [
    "year = int(input('enter year for cheking leap year or not:'))\n",
    "if year %400 == 0 and year%100 == 0:\n",
    "    print(f'{year} is leap year..!')\n",
    "    \n",
    "elif year % 4 == 0 and year % 100 == 0:\n",
    "    print(f'{year} is leap year...!')\n",
    "    \n",
    "else :\n",
    "    print(f'{year}is not leap year....!')"
   ]
  },
  {
   "cell_type": "markdown",
   "id": "5cc2825b",
   "metadata": {},
   "source": [
    "#### 3.Python program to check if a Number is positive , Negative or zero\n"
   ]
  },
  {
   "cell_type": "code",
   "execution_count": 20,
   "id": "63c9cd71",
   "metadata": {},
   "outputs": [
    {
     "name": "stdout",
     "output_type": "stream",
     "text": [
      "enter the cheking number :100\n",
      "100.0is positive..!\n"
     ]
    }
   ],
   "source": [
    "num = float(input('enter the cheking number :'))\n",
    "\n",
    "if num > 0:\n",
    "    print(f'{num}is positive..!')\n",
    "elif num == 0:\n",
    "    print(f'{num}is zero..!')\n",
    "else:\n",
    "    print(f'{num}is negative..!')"
   ]
  },
  {
   "cell_type": "markdown",
   "id": "0ecc9f84",
   "metadata": {},
   "source": [
    "#### 4.python program to find the Largest among three numbers"
   ]
  },
  {
   "cell_type": "code",
   "execution_count": 23,
   "id": "e98fe5d2",
   "metadata": {},
   "outputs": [
    {
     "name": "stdout",
     "output_type": "stream",
     "text": [
      "30is largest number\n",
      "Enter ist number:33\n",
      "enter 2nd number44\n",
      "Enter 3rd number19\n"
     ]
    }
   ],
   "source": [
    "num1 = 10\n",
    "num2 = 20\n",
    "num3 = 30\n",
    "\n",
    "if num1 > num2 and num3:\n",
    "    print(f'{num1} is largest number')\n",
    "elif num2> num3  and num1:\n",
    "    print(f'{num2} is largest number')\n",
    "else:\n",
    "    print(f'{num3}is largest number')\n",
    "    \n",
    "    \n",
    "a = float(input(\"Enter ist number:\"))\n",
    "b = float(input(\"enter 2nd number\"))\n",
    "c = float(input(\"Enter 3rd number\"))\n",
    "\n",
    "if (a >= b) and (a >= c):\n",
    "    largest = a\n",
    "    \n",
    "elif(b >= a) and (b >= c):\n",
    "    largest = b\n",
    "\n",
    "else:\n",
    "    largest = c\n",
    "    \n",
    "    print(\"The largest number is :\", largest)\n",
    "    \n",
    "    "
   ]
  },
  {
   "cell_type": "code",
   "execution_count": null,
   "id": "4788e7fd",
   "metadata": {},
   "outputs": [],
   "source": []
  }
 ],
 "metadata": {
  "kernelspec": {
   "display_name": "Python 3 (ipykernel)",
   "language": "python",
   "name": "python3"
  },
  "language_info": {
   "codemirror_mode": {
    "name": "ipython",
    "version": 3
   },
   "file_extension": ".py",
   "mimetype": "text/x-python",
   "name": "python",
   "nbconvert_exporter": "python",
   "pygments_lexer": "ipython3",
   "version": "3.11.2"
  }
 },
 "nbformat": 4,
 "nbformat_minor": 5
}
